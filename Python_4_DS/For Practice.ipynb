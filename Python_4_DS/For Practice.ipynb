{
 "cells": [
  {
   "cell_type": "code",
   "execution_count": 12,
   "metadata": {},
   "outputs": [
    {
     "name": "stdout",
     "output_type": "stream",
     "text": [
      "Sum is 5050\n",
      "100\n",
      "Average is 50.50\n"
     ]
    }
   ],
   "source": [
    "# 練習用 for 迴圈計算 1 加到 100\n",
    "\n",
    "sum=0\n",
    "for i in range(1,101):\n",
    "    sum += i\n",
    "\n",
    "print (\"Sum is %d\"%sum)\n",
    "print(len(range(1,101)))\n",
    "Avg = sum / len(range(1,101))\n",
    "print (\"Average is %.2f\"%Avg)"
   ]
  },
  {
   "cell_type": "code",
   "execution_count": 4,
   "metadata": {},
   "outputs": [
    {
     "name": "stdout",
     "output_type": "stream",
     "text": [
      "100\n"
     ]
    }
   ],
   "source": [
    "# 練習用 for 迴圈計算 1 到 100 的數字個數\n",
    "\n",
    "count = 0\n",
    "for i in range (1,101):\n",
    "    count = count +1\n",
    "print (count)"
   ]
  },
  {
   "cell_type": "code",
   "execution_count": 7,
   "metadata": {},
   "outputs": [
    {
     "name": "stdout",
     "output_type": "stream",
     "text": [
      "3628800\n"
     ]
    }
   ],
   "source": [
    "# 練習用 for 迴圈計算 10!\n",
    "Frac = 1\n",
    "for i in range (1,11):\n",
    "    Frac = Frac * i\n",
    "print (Frac)"
   ]
  }
 ],
 "metadata": {
  "kernelspec": {
   "display_name": "Python 3",
   "language": "python",
   "name": "python3"
  },
  "language_info": {
   "codemirror_mode": {
    "name": "ipython",
    "version": 3
   },
   "file_extension": ".py",
   "mimetype": "text/x-python",
   "name": "python",
   "nbconvert_exporter": "python",
   "pygments_lexer": "ipython3",
   "version": "3.6.1"
  }
 },
 "nbformat": 4,
 "nbformat_minor": 2
}
