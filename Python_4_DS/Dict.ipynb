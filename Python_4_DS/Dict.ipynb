{
 "cells": [
  {
   "cell_type": "code",
   "execution_count": 9,
   "metadata": {},
   "outputs": [
    {
     "name": "stdout",
     "output_type": "stream",
     "text": [
      "<class 'dict'>\n",
      "True\n",
      "0.8780487804878049\n",
      "dict_keys(['team_name', 'wins', 'losses', 'win_percentage', 'is_champion'])\n",
      "dict_values(['Chicago Bulls', 72, 10, 0.8780487804878049, True])\n",
      "['team_name', 'wins', 'losses', 'win_percentage', 'is_champion']\n",
      "dict_values(['Chicago Bulls', 72, 10, 0.8780487804878049, True])\n"
     ]
    }
   ],
   "source": [
    "chicago_bulls = {\n",
    "    \"team_name\": \"Chicago Bulls\",\n",
    "    \"wins\": 72,\n",
    "    \"losses\": 10,\n",
    "    \"win_percentage\": (72/(72+10)),\n",
    "    \"is_champion\": True\n",
    "}\n",
    "print(type(chicago_bulls))\n",
    "print(chicago_bulls[\"is_champion\"])\n",
    "print(chicago_bulls[\"win_percentage\"])\n",
    "print(chicago_bulls.keys())\n",
    "print(chicago_bulls.values())\n",
    "print(list(chicago_bulls.keys()))   # 轉成 List\n",
    "print(chicago_bulls.values())"
   ]
  },
  {
   "cell_type": "code",
   "execution_count": 6,
   "metadata": {},
   "outputs": [
    {
     "name": "stdout",
     "output_type": "stream",
     "text": [
      "<class 'dict_keys'>\n",
      "<class 'dict_values'>\n"
     ]
    }
   ],
   "source": [
    "print(type(chicago_bulls.keys()))\n",
    "print(type(chicago_bulls.values()))"
   ]
  }
 ],
 "metadata": {
  "kernelspec": {
   "display_name": "Python 3",
   "language": "python",
   "name": "python3"
  },
  "language_info": {
   "codemirror_mode": {
    "name": "ipython",
    "version": 3
   },
   "file_extension": ".py",
   "mimetype": "text/x-python",
   "name": "python",
   "nbconvert_exporter": "python",
   "pygments_lexer": "ipython3",
   "version": "3.6.1"
  }
 },
 "nbformat": 4,
 "nbformat_minor": 2
}
