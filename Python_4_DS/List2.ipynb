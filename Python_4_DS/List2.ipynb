{
 "cells": [
  {
   "cell_type": "code",
   "execution_count": 1,
   "metadata": {
    "collapsed": true
   },
   "outputs": [],
   "source": [
    "# 建立一個 list 叫做 friends_list 儲存這些資訊\n",
    "genre = \"SitCom\"\n",
    "seasons = 10\n",
    "episodes = 236\n",
    "stars = [\"Jennifer Aniston\", \"Courteney Cox\", \"Lisa Kudrow\",\n",
    "\"Matt LeBlanc\", \"Matthew Perry\", \"David Schwimmer\"]"
   ]
  },
  {
   "cell_type": "code",
   "execution_count": 11,
   "metadata": {},
   "outputs": [
    {
     "name": "stdout",
     "output_type": "stream",
     "text": [
      "<class 'list'>\n",
      "\n",
      "六人行有10季.\n",
      "1. Chandler Bing是由 Matthew Perry 飾演\n",
      "2. Chandler Bing是由 Matthew Perry 飾演\n",
      "3. Chandler Bing是由 Matthew Perry 飾演\n"
     ]
    }
   ],
   "source": [
    "# 建立好以後，請將季數與 \"Matthew Perry\" 印出\n",
    "friends_list = [genre, seasons, episodes, stars]    # List inside List\n",
    "print(type(friends_list))\n",
    "print(\"\")\n",
    "print(\"六人行有%d季.\"%friends_list[1])\n",
    "print(\"1. Chandler Bing是由 %s 飾演\"%friends_list[3][4])\n",
    "print(\"2. Chandler Bing是由 %s 飾演\"%friends_list[-1][4])\n",
    "print(\"3. Chandler Bing是由 %s 飾演\"%friends_list[-1][-2])"
   ]
  }
 ],
 "metadata": {
  "kernelspec": {
   "display_name": "Python 3",
   "language": "python",
   "name": "python3"
  },
  "language_info": {
   "codemirror_mode": {
    "name": "ipython",
    "version": 3
   },
   "file_extension": ".py",
   "mimetype": "text/x-python",
   "name": "python",
   "nbconvert_exporter": "python",
   "pygments_lexer": "ipython3",
   "version": "3.6.1"
  }
 },
 "nbformat": 4,
 "nbformat_minor": 2
}
