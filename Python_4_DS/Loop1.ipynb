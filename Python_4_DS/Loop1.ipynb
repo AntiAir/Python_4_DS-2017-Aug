{
 "cells": [
  {
   "cell_type": "code",
   "execution_count": 1,
   "metadata": {},
   "outputs": [
    {
     "name": "stdout",
     "output_type": "stream",
     "text": [
      "country\n",
      "city\n"
     ]
    }
   ],
   "source": [
    "my_dict = {\"country\": \"Taiwan\", \"city\":\"Taipei\"}\n",
    "\n",
    "for element in my_dict:\n",
    "    print(element)"
   ]
  },
  {
   "cell_type": "code",
   "execution_count": 2,
   "metadata": {},
   "outputs": [
    {
     "name": "stdout",
     "output_type": "stream",
     "text": [
      "country\n",
      "city\n"
     ]
    }
   ],
   "source": [
    "my_dict = {\"country\": \"Taiwan\", \"city\":\"Taipei\"}\n",
    "\n",
    "for element in my_dict.keys():\n",
    "    print(element)"
   ]
  },
  {
   "cell_type": "code",
   "execution_count": 3,
   "metadata": {},
   "outputs": [
    {
     "name": "stdout",
     "output_type": "stream",
     "text": [
      "Taiwan\n",
      "Taipei\n"
     ]
    }
   ],
   "source": [
    "my_dict = {\"country\": \"Taiwan\", \"city\":\"Taipei\"}\n",
    "\n",
    "for element in my_dict.values():\n",
    "    print(element)"
   ]
  },
  {
   "cell_type": "code",
   "execution_count": 8,
   "metadata": {},
   "outputs": [
    {
     "name": "stdout",
     "output_type": "stream",
     "text": [
      "dict_items([('country', 'Taiwan'), ('city', 'Taipei')])\n",
      "<class 'dict_items'>\n",
      "\n",
      "('country', 'Taiwan')\n",
      "('city', 'Taipei')\n",
      "\n",
      "country Taiwan\n",
      "city Taipei\n"
     ]
    }
   ],
   "source": [
    "my_dict = {\"country\": \"Taiwan\", \"city\":\"Taipei\"}\n",
    "print(my_dict.items())\n",
    "print(type(my_dict.items()))\n",
    "print(\"\");\n",
    "for element in my_dict.items():\n",
    "    print(element)\n",
    "print(\"\");\n",
    "for key,value in my_dict.items():\n",
    "    print(key,value)"
   ]
  }
 ],
 "metadata": {
  "kernelspec": {
   "display_name": "Python 3",
   "language": "python",
   "name": "python3"
  },
  "language_info": {
   "codemirror_mode": {
    "name": "ipython",
    "version": 3
   },
   "file_extension": ".py",
   "mimetype": "text/x-python",
   "name": "python",
   "nbconvert_exporter": "python",
   "pygments_lexer": "ipython3",
   "version": "3.6.1"
  }
 },
 "nbformat": 4,
 "nbformat_minor": 2
}
