{
 "cells": [
  {
   "cell_type": "code",
   "execution_count": 1,
   "metadata": {},
   "outputs": [
    {
     "name": "stdout",
     "output_type": "stream",
     "text": [
      "星期一 : Monday\n",
      "星期二 : Tuesday\n",
      "星期三 : Wednesday\n",
      "星期四 : Thursday\n",
      "星期五 : Friday\n"
     ]
    }
   ],
   "source": [
    "#同時使用兩個以上 sequences 的內容值\n",
    "\n",
    "weekdays_ch = [\"星期一\", \"星期二\", \"星期三\", \"星期四\", \"星期五\"]\n",
    "weekdays = [\"Monday\", \"Tuesday\", \"Wednesday\", \"Thursday\", \"Friday\"]\n",
    "\n",
    "for weekday_ch, weekday in zip(weekdays_ch, weekdays):\n",
    "    print(weekday_ch, \":\", weekday)"
   ]
  },
  {
   "cell_type": "code",
   "execution_count": 2,
   "metadata": {},
   "outputs": [
    {
     "name": "stdout",
     "output_type": "stream",
     "text": [
      "星期一 : Monday : dd\n",
      "星期二 : Tuesday : ee\n",
      "星期三 : Wednesday : W\n",
      "星期四 : Thursday : day\n",
      "星期五 : Friday : Fri\n"
     ]
    }
   ],
   "source": [
    "weekdays_ch = [\"星期一\", \"星期二\", \"星期三\", \"星期四\", \"星期五\"]\n",
    "weekdays = [\"Monday\", \"Tuesday\", \"Wednesday\", \"Thursday\", \"Friday\"]\n",
    "Schedule = [\"dd\", \"ee\", \"W\", \"day\", \"Fri\"]\n",
    "\n",
    "for weekday_ch, weekday,qq in zip(weekdays_ch, weekdays,Schedule):\n",
    "    print(weekday_ch, \":\", weekday,\":\",qq)"
   ]
  }
 ],
 "metadata": {
  "kernelspec": {
   "display_name": "Python 3",
   "language": "python",
   "name": "python3"
  },
  "language_info": {
   "codemirror_mode": {
    "name": "ipython",
    "version": 3
   },
   "file_extension": ".py",
   "mimetype": "text/x-python",
   "name": "python",
   "nbconvert_exporter": "python",
   "pygments_lexer": "ipython3",
   "version": "3.6.1"
  }
 },
 "nbformat": 4,
 "nbformat_minor": 2
}
