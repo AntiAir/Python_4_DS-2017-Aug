{
 "cells": [
  {
   "cell_type": "code",
   "execution_count": 6,
   "metadata": {},
   "outputs": [
    {
     "name": "stdout",
     "output_type": "stream",
     "text": [
      "今天天氣是晴天，去戶外跑步\n"
     ]
    }
   ],
   "source": [
    "#練習：晴天印\"去戶外跑步\"，否則印\"去健身房\"。\n",
    "\n",
    "from random import choice\n",
    "\n",
    "weather = [\"晴天\", \"陰天\", \"雨天\"]\n",
    "today = choice(weather)\n",
    "if today == \"晴天\":\n",
    "    print(\"今天天氣是%s，去戶外跑步\" % today)\n",
    "else:\n",
    "    print(\"今天天氣是%s，去健身房\" % today)"
   ]
  },
  {
   "cell_type": "code",
   "execution_count": 48,
   "metadata": {},
   "outputs": [
    {
     "name": "stdout",
     "output_type": "stream",
     "text": [
      "今天天氣是多雲，去戶外跑步\n"
     ]
    }
   ],
   "source": [
    "#練習：晴天或多雲印\"去戶外跑步\"，毛毛雨印\"去健身房\"，否則印\"當沙發馬鈴薯\"\n",
    "from random import choice\n",
    "\n",
    "weather = [\"晴天\", \"多雲\", \"毛毛雨\", \"狂風\", \"暴雨\", \"下雪\", \"打雷閃電\"]\n",
    "\n",
    "today = choice(weather)\n",
    "if today in [\"晴天\",\"多雲\"]:\n",
    "    print(\"今天天氣是%s，去戶外跑步\" % today)\n",
    "elif today == \"毛毛雨\":\n",
    "    print(\"今天天氣是%s，去健身房\" % today)\n",
    "else:\n",
    "    print(\"今天天氣是%s，當沙發馬鈴薯\" % today)"
   ]
  }
 ],
 "metadata": {
  "kernelspec": {
   "display_name": "Python 3",
   "language": "python",
   "name": "python3"
  },
  "language_info": {
   "codemirror_mode": {
    "name": "ipython",
    "version": 3
   },
   "file_extension": ".py",
   "mimetype": "text/x-python",
   "name": "python",
   "nbconvert_exporter": "python",
   "pygments_lexer": "ipython3",
   "version": "3.6.1"
  }
 },
 "nbformat": 4,
 "nbformat_minor": 2
}
