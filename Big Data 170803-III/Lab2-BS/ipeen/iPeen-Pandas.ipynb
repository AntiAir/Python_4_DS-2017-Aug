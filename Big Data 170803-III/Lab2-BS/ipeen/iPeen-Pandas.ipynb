{
 "cells": [
  {
   "cell_type": "code",
   "execution_count": 3,
   "metadata": {
    "collapsed": true
   },
   "outputs": [],
   "source": [
    "import pandas as pd\n",
    "\n",
    "df = pd.read_csv('shop_list.csv')"
   ]
  },
  {
   "cell_type": "code",
   "execution_count": 6,
   "metadata": {},
   "outputs": [
    {
     "data": {
      "text/html": [
       "<div>\n",
       "<style>\n",
       "    .dataframe thead tr:only-child th {\n",
       "        text-align: right;\n",
       "    }\n",
       "\n",
       "    .dataframe thead th {\n",
       "        text-align: left;\n",
       "    }\n",
       "\n",
       "    .dataframe tbody tr th {\n",
       "        vertical-align: top;\n",
       "    }\n",
       "</style>\n",
       "<table border=\"1\" class=\"dataframe\">\n",
       "  <thead>\n",
       "    <tr style=\"text-align: right;\">\n",
       "      <th></th>\n",
       "      <th>Shop</th>\n",
       "      <th>Category</th>\n",
       "      <th>Tel</th>\n",
       "      <th>Addr</th>\n",
       "      <th>Cost</th>\n",
       "      <th>Rank</th>\n",
       "      <th>RatingCount</th>\n",
       "      <th>Share</th>\n",
       "      <th>Collect</th>\n",
       "    </tr>\n",
       "  </thead>\n",
       "  <tbody>\n",
       "    <tr>\n",
       "      <th>0</th>\n",
       "      <td>茄子洋廚(原：茄子咖哩)</td>\n",
       "      <td>其他異國料理</td>\n",
       "      <td>223661258</td>\n",
       "      <td>台北市大安區羅斯福路四段85號2樓(台大學生活動中心)</td>\n",
       "      <td>300</td>\n",
       "      <td>45</td>\n",
       "      <td>40</td>\n",
       "      <td>120654</td>\n",
       "      <td>119</td>\n",
       "    </tr>\n",
       "    <tr>\n",
       "      <th>1</th>\n",
       "      <td>廖家食記宜蘭蔥餅</td>\n",
       "      <td>麵食點心</td>\n",
       "      <td>986138786</td>\n",
       "      <td>台北市中正區羅斯福路四段90巷4號前(台大對面、肯德雞旁巷子內)</td>\n",
       "      <td>43</td>\n",
       "      <td>45</td>\n",
       "      <td>26</td>\n",
       "      <td>88241</td>\n",
       "      <td>81</td>\n",
       "    </tr>\n",
       "    <tr>\n",
       "      <th>2</th>\n",
       "      <td>筷子餐廳(公館店)</td>\n",
       "      <td>上海菜(江浙菜)</td>\n",
       "      <td>233653168</td>\n",
       "      <td>台北市大安區羅斯福路四段85號(台大學生活動中心)</td>\n",
       "      <td>386</td>\n",
       "      <td>45</td>\n",
       "      <td>13</td>\n",
       "      <td>181959</td>\n",
       "      <td>76</td>\n",
       "    </tr>\n",
       "    <tr>\n",
       "      <th>3</th>\n",
       "      <td>蘇活義大利麵坊 SoHo Pasta</td>\n",
       "      <td>義式料理</td>\n",
       "      <td>233653208</td>\n",
       "      <td>台北市大安區新生南路三段60巷3號(台大體育場對面巷子)</td>\n",
       "      <td>187</td>\n",
       "      <td>45</td>\n",
       "      <td>18</td>\n",
       "      <td>106067</td>\n",
       "      <td>71</td>\n",
       "    </tr>\n",
       "    <tr>\n",
       "      <th>4</th>\n",
       "      <td>姊妹花雞排(公館店)</td>\n",
       "      <td>漢堡、炸雞</td>\n",
       "      <td>223673925</td>\n",
       "      <td>台北市大安區羅斯福路四段1號(台大校園內)</td>\n",
       "      <td>52</td>\n",
       "      <td>45</td>\n",
       "      <td>15</td>\n",
       "      <td>329417</td>\n",
       "      <td>94</td>\n",
       "    </tr>\n",
       "  </tbody>\n",
       "</table>\n",
       "</div>"
      ],
      "text/plain": [
       "                 Shop  Category        Tel                              Addr  \\\n",
       "0        茄子洋廚(原：茄子咖哩)    其他異國料理  223661258       台北市大安區羅斯福路四段85號2樓(台大學生活動中心)   \n",
       "1            廖家食記宜蘭蔥餅      麵食點心  986138786  台北市中正區羅斯福路四段90巷4號前(台大對面、肯德雞旁巷子內)   \n",
       "2           筷子餐廳(公館店)  上海菜(江浙菜)  233653168         台北市大安區羅斯福路四段85號(台大學生活動中心)   \n",
       "3  蘇活義大利麵坊 SoHo Pasta      義式料理  233653208      台北市大安區新生南路三段60巷3號(台大體育場對面巷子)   \n",
       "4          姊妹花雞排(公館店)     漢堡、炸雞  223673925             台北市大安區羅斯福路四段1號(台大校園內)   \n",
       "\n",
       "  Cost  Rank  RatingCount   Share  Collect  \n",
       "0  300    45           40  120654      119  \n",
       "1   43    45           26   88241       81  \n",
       "2  386    45           13  181959       76  \n",
       "3  187    45           18  106067       71  \n",
       "4   52    45           15  329417       94  "
      ]
     },
     "execution_count": 6,
     "metadata": {},
     "output_type": "execute_result"
    }
   ],
   "source": [
    "df.head()"
   ]
  },
  {
   "cell_type": "code",
   "execution_count": 7,
   "metadata": {
    "scrolled": true
   },
   "outputs": [
    {
     "data": {
      "text/html": [
       "<div>\n",
       "<style>\n",
       "    .dataframe thead tr:only-child th {\n",
       "        text-align: right;\n",
       "    }\n",
       "\n",
       "    .dataframe thead th {\n",
       "        text-align: left;\n",
       "    }\n",
       "\n",
       "    .dataframe tbody tr th {\n",
       "        vertical-align: top;\n",
       "    }\n",
       "</style>\n",
       "<table border=\"1\" class=\"dataframe\">\n",
       "  <thead>\n",
       "    <tr style=\"text-align: right;\">\n",
       "      <th></th>\n",
       "      <th>Tel</th>\n",
       "      <th>Rank</th>\n",
       "      <th>RatingCount</th>\n",
       "      <th>Share</th>\n",
       "      <th>Collect</th>\n",
       "    </tr>\n",
       "  </thead>\n",
       "  <tbody>\n",
       "    <tr>\n",
       "      <th>count</th>\n",
       "      <td>1.500000e+01</td>\n",
       "      <td>15.000000</td>\n",
       "      <td>15.000000</td>\n",
       "      <td>15.000000</td>\n",
       "      <td>15.000000</td>\n",
       "    </tr>\n",
       "    <tr>\n",
       "      <th>mean</th>\n",
       "      <td>2.765116e+08</td>\n",
       "      <td>35.000000</td>\n",
       "      <td>10.266667</td>\n",
       "      <td>80403.400000</td>\n",
       "      <td>37.066667</td>\n",
       "    </tr>\n",
       "    <tr>\n",
       "      <th>std</th>\n",
       "      <td>1.963550e+08</td>\n",
       "      <td>14.880476</td>\n",
       "      <td>11.022488</td>\n",
       "      <td>85490.056605</td>\n",
       "      <td>40.743916</td>\n",
       "    </tr>\n",
       "    <tr>\n",
       "      <th>min</th>\n",
       "      <td>2.236283e+08</td>\n",
       "      <td>0.000000</td>\n",
       "      <td>0.000000</td>\n",
       "      <td>1618.000000</td>\n",
       "      <td>1.000000</td>\n",
       "    </tr>\n",
       "    <tr>\n",
       "      <th>25%</th>\n",
       "      <td>2.236607e+08</td>\n",
       "      <td>35.000000</td>\n",
       "      <td>2.000000</td>\n",
       "      <td>25922.500000</td>\n",
       "      <td>4.000000</td>\n",
       "    </tr>\n",
       "    <tr>\n",
       "      <th>50%</th>\n",
       "      <td>2.236763e+08</td>\n",
       "      <td>40.000000</td>\n",
       "      <td>8.000000</td>\n",
       "      <td>46503.000000</td>\n",
       "      <td>10.000000</td>\n",
       "    </tr>\n",
       "    <tr>\n",
       "      <th>75%</th>\n",
       "      <td>2.287893e+08</td>\n",
       "      <td>45.000000</td>\n",
       "      <td>14.000000</td>\n",
       "      <td>110077.000000</td>\n",
       "      <td>73.500000</td>\n",
       "    </tr>\n",
       "    <tr>\n",
       "      <th>max</th>\n",
       "      <td>9.861388e+08</td>\n",
       "      <td>45.000000</td>\n",
       "      <td>40.000000</td>\n",
       "      <td>329417.000000</td>\n",
       "      <td>119.000000</td>\n",
       "    </tr>\n",
       "  </tbody>\n",
       "</table>\n",
       "</div>"
      ],
      "text/plain": [
       "                Tel       Rank  RatingCount          Share     Collect\n",
       "count  1.500000e+01  15.000000    15.000000      15.000000   15.000000\n",
       "mean   2.765116e+08  35.000000    10.266667   80403.400000   37.066667\n",
       "std    1.963550e+08  14.880476    11.022488   85490.056605   40.743916\n",
       "min    2.236283e+08   0.000000     0.000000    1618.000000    1.000000\n",
       "25%    2.236607e+08  35.000000     2.000000   25922.500000    4.000000\n",
       "50%    2.236763e+08  40.000000     8.000000   46503.000000   10.000000\n",
       "75%    2.287893e+08  45.000000    14.000000  110077.000000   73.500000\n",
       "max    9.861388e+08  45.000000    40.000000  329417.000000  119.000000"
      ]
     },
     "execution_count": 7,
     "metadata": {},
     "output_type": "execute_result"
    }
   ],
   "source": [
    "df.describe()"
   ]
  },
  {
   "cell_type": "code",
   "execution_count": 8,
   "metadata": {},
   "outputs": [
    {
     "data": {
      "text/plain": [
       "0           茄子洋廚(原：茄子咖哩)\n",
       "1               廖家食記宜蘭蔥餅\n",
       "2              筷子餐廳(公館店)\n",
       "3     蘇活義大利麵坊 SoHo Pasta\n",
       "4             姊妹花雞排(公館店)\n",
       "5               小小福姐妹花雞排\n",
       "6              龐德羅莎(公館店)\n",
       "7         yamazaki(台灣大學)\n",
       "8     Yamazaki 山崎麵包(台大店)\n",
       "9            書芳園咖啡館(台大店)\n",
       "10                   鹿鳴宴\n",
       "11              二二八人文咖啡館\n",
       "12                 千賞鮮味屋\n",
       "13       good goods cafe\n",
       "14              Sunday's\n",
       "Name: Shop, dtype: object"
      ]
     },
     "execution_count": 8,
     "metadata": {},
     "output_type": "execute_result"
    }
   ],
   "source": [
    "df['Shop']"
   ]
  },
  {
   "cell_type": "code",
   "execution_count": 10,
   "metadata": {},
   "outputs": [
    {
     "data": {
      "text/plain": [
       "0     40\n",
       "1     26\n",
       "2     13\n",
       "3     18\n",
       "4     15\n",
       "5     10\n",
       "6      8\n",
       "7      5\n",
       "8      8\n",
       "9      5\n",
       "10     2\n",
       "11     2\n",
       "12     1\n",
       "13     1\n",
       "14     0\n",
       "Name: RatingCount, dtype: int64"
      ]
     },
     "execution_count": 10,
     "metadata": {},
     "output_type": "execute_result"
    }
   ],
   "source": [
    "df['RatingCount']"
   ]
  },
  {
   "cell_type": "code",
   "execution_count": 12,
   "metadata": {},
   "outputs": [
    {
     "name": "stdout",
     "output_type": "stream",
     "text": [
      "Populating the interactive namespace from numpy and matplotlib\n"
     ]
    }
   ],
   "source": [
    "%pylab inline"
   ]
  },
  {
   "cell_type": "code",
   "execution_count": 13,
   "metadata": {},
   "outputs": [
    {
     "data": {
      "text/plain": [
       "<matplotlib.axes._subplots.AxesSubplot at 0xa55f9b0>"
      ]
     },
     "execution_count": 13,
     "metadata": {},
     "output_type": "execute_result"
    },
    {
     "data": {
      "image/png": "[encoded data removed]",
      "text/plain": [
       "<matplotlib.figure.Figure at 0xa55f670>"
      ]
     },
     "metadata": {},
     "output_type": "display_data"
    }
   ],
   "source": [
    "df['RatingCount'].hist()"
   ]
  },
  {
   "cell_type": "code",
   "execution_count": 14,
   "metadata": {},
   "outputs": [
    {
     "data": {
      "text/html": [
       "<div>\n",
       "<style>\n",
       "    .dataframe thead tr:only-child th {\n",
       "        text-align: right;\n",
       "    }\n",
       "\n",
       "    .dataframe thead th {\n",
       "        text-align: left;\n",
       "    }\n",
       "\n",
       "    .dataframe tbody tr th {\n",
       "        vertical-align: top;\n",
       "    }\n",
       "</style>\n",
       "<table border=\"1\" class=\"dataframe\">\n",
       "  <thead>\n",
       "    <tr style=\"text-align: right;\">\n",
       "      <th></th>\n",
       "      <th>Shop</th>\n",
       "      <th>Cost</th>\n",
       "      <th>RatingCount</th>\n",
       "    </tr>\n",
       "  </thead>\n",
       "  <tbody>\n",
       "    <tr>\n",
       "      <th>0</th>\n",
       "      <td>茄子洋廚(原：茄子咖哩)</td>\n",
       "      <td>300</td>\n",
       "      <td>40</td>\n",
       "    </tr>\n",
       "    <tr>\n",
       "      <th>1</th>\n",
       "      <td>廖家食記宜蘭蔥餅</td>\n",
       "      <td>43</td>\n",
       "      <td>26</td>\n",
       "    </tr>\n",
       "    <tr>\n",
       "      <th>2</th>\n",
       "      <td>筷子餐廳(公館店)</td>\n",
       "      <td>386</td>\n",
       "      <td>13</td>\n",
       "    </tr>\n",
       "    <tr>\n",
       "      <th>3</th>\n",
       "      <td>蘇活義大利麵坊 SoHo Pasta</td>\n",
       "      <td>187</td>\n",
       "      <td>18</td>\n",
       "    </tr>\n",
       "    <tr>\n",
       "      <th>4</th>\n",
       "      <td>姊妹花雞排(公館店)</td>\n",
       "      <td>52</td>\n",
       "      <td>15</td>\n",
       "    </tr>\n",
       "  </tbody>\n",
       "</table>\n",
       "</div>"
      ],
      "text/plain": [
       "                 Shop Cost  RatingCount\n",
       "0        茄子洋廚(原：茄子咖哩)  300           40\n",
       "1            廖家食記宜蘭蔥餅   43           26\n",
       "2           筷子餐廳(公館店)  386           13\n",
       "3  蘇活義大利麵坊 SoHo Pasta  187           18\n",
       "4          姊妹花雞排(公館店)   52           15"
      ]
     },
     "execution_count": 14,
     "metadata": {},
     "output_type": "execute_result"
    }
   ],
   "source": [
    "new_df = df[['Shop', 'Cost', 'RatingCount']]\n",
    "new_df.head()"
   ]
  },
  {
   "cell_type": "code",
   "execution_count": 15,
   "metadata": {},
   "outputs": [
    {
     "data": {
      "text/plain": [
       "array([[<matplotlib.axes._subplots.AxesSubplot object at 0x0A545DB0>]], dtype=object)"
      ]
     },
     "execution_count": 15,
     "metadata": {},
     "output_type": "execute_result"
    },
    {
     "data": {
      "image/png": "[encoded data removed]",
      "text/plain": [
       "<matplotlib.figure.Figure at 0x9f460b0>"
      ]
     },
     "metadata": {},
     "output_type": "display_data"
    }
   ],
   "source": [
    "new_df.hist()"
   ]
  }
 ],
 "metadata": {
  "kernelspec": {
   "display_name": "Python 2",
   "language": "python",
   "name": "python2"
  },
  "language_info": {
   "codemirror_mode": {
    "name": "ipython",
    "version": 2
   },
   "file_extension": ".py",
   "mimetype": "text/x-python",
   "name": "python",
   "nbconvert_exporter": "python",
   "pygments_lexer": "ipython2",
   "version": "2.7.13"
  }
 },
 "nbformat": 4,
 "nbformat_minor": 2
}
